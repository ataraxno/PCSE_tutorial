{
 "cells": [
  {
   "cell_type": "code",
   "execution_count": 1,
   "metadata": {},
   "outputs": [],
   "source": [
    "import os\n",
    "import pcse\n",
    "import pandas as pd\n",
    "import yaml"
   ]
  },
  {
   "cell_type": "code",
   "execution_count": 2,
   "metadata": {},
   "outputs": [],
   "source": [
    "import matplotlib.pyplot as plt"
   ]
  },
  {
   "cell_type": "code",
   "execution_count": 3,
   "metadata": {},
   "outputs": [],
   "source": [
    "data_dir = './pcse_examples/'"
   ]
  },
  {
   "cell_type": "code",
   "execution_count": 4,
   "metadata": {},
   "outputs": [],
   "source": [
    "from pcse.fileinput import PCSEFileReader\n",
    "crop = PCSEFileReader(os.path.join(data_dir, \"lintul3_springwheat.crop\"))\n",
    "soil = PCSEFileReader(os.path.join(data_dir, \"lintul3_springwheat.soil\"))\n",
    "site = PCSEFileReader(os.path.join(data_dir, \"lintul3_springwheat.site\"))"
   ]
  },
  {
   "cell_type": "markdown",
   "metadata": {},
   "source": [
    "lintul과 wofost를 둘 다 backend로 사용할 수 있다."
   ]
  },
  {
   "cell_type": "markdown",
   "metadata": {},
   "source": [
    "### Reading model parameters"
   ]
  },
  {
   "cell_type": "code",
   "execution_count": 5,
   "metadata": {},
   "outputs": [],
   "source": [
    "from pcse.base import ParameterProvider\n",
    "parameterprovider = ParameterProvider(soildata=soil, cropdata=crop, sitedata=site)"
   ]
  },
  {
   "cell_type": "markdown",
   "metadata": {},
   "source": [
    "### Reading weather data"
   ]
  },
  {
   "cell_type": "code",
   "execution_count": 6,
   "metadata": {},
   "outputs": [
    {
     "name": "stdout",
     "output_type": "stream",
     "text": [
      "Weather data provided by: ExcelWeatherDataProvider\n",
      "--------Description---------\n",
      "Weather data for:\n",
      "Country: Netherlands\n",
      "Station: Wageningen, Location Haarweg\n",
      "Description: Observed data from Station Haarweg in Wageningen\n",
      "Source: Meteorology and Air Quality Group, Wageningen University\n",
      "Contact: Peter Uithol\n",
      "----Site characteristics----\n",
      "Elevation:    7.0\n",
      "Latitude:  51.970\n",
      "Longitude:  5.670\n",
      "Data available for 2004-01-02 - 2008-12-31\n",
      "Number of missing days: 32\n",
      "\n"
     ]
    }
   ],
   "source": [
    "from pcse.fileinput import ExcelWeatherDataProvider\n",
    "weatherdataprovider = ExcelWeatherDataProvider(os.path.join(data_dir, \"nl1.xlsx\"))\n",
    "print(weatherdataprovider)"
   ]
  },
  {
   "cell_type": "code",
   "execution_count": 7,
   "metadata": {},
   "outputs": [
    {
     "name": "stdout",
     "output_type": "stream",
     "text": [
      "!!python/object/new:pcse.fileinput.yaml_agro_loader.YAMLAgroManagementReader\n",
      "listitems:\n",
      "- 2006-01-01:\n",
      "    CropCalendar:\n",
      "      crop_end_date: 2006-10-20\n",
      "      crop_end_type: earliest\n",
      "      crop_name: wheat\n",
      "      crop_start_date: 2006-03-31\n",
      "      crop_start_type: emergence\n",
      "      max_duration: 300\n",
      "      variety_name: spring-wheat\n",
      "    StateEvents: null\n",
      "    TimedEvents:\n",
      "    - comment: All nitrogen amounts in g N m-2\n",
      "      event_signal: apply_n\n",
      "      events_table:\n",
      "      - 2006-04-10:\n",
      "          amount: 10\n",
      "          recovery: 0.7\n",
      "      - 2006-05-05:\n",
      "          amount: 5\n",
      "          recovery: 0.7\n",
      "      name: Nitrogen application table\n",
      "\n"
     ]
    }
   ],
   "source": [
    "from pcse.fileinput import YAMLAgroManagementReader\n",
    "agromanagement = YAMLAgroManagementReader(os.path.join(data_dir, \"lintul3_springwheat.agro\"))\n",
    "print(agromanagement)"
   ]
  },
  {
   "cell_type": "markdown",
   "metadata": {},
   "source": [
    ".amgt 아니고 .agro 파일인데, 업데이트 중에 뭔가 바뀐 것 같음. 튜토리얼에 맞추어 수정함."
   ]
  },
  {
   "cell_type": "code",
   "execution_count": 8,
   "metadata": {},
   "outputs": [],
   "source": [
    "from pcse.models import LINTUL3\n",
    "lintul3 = LINTUL3(parameterprovider, weatherdataprovider, agromanagement)\n",
    "lintul3.run_till_terminate()"
   ]
  },
  {
   "cell_type": "markdown",
   "metadata": {},
   "source": [
    "불러오는 모델에 따라 쉽게 시뮬레이션이 가능함."
   ]
  }
 ],
 "metadata": {
  "kernelspec": {
   "display_name": "Environment (conda_tf2_pcse)",
   "language": "python",
   "name": "conda_tf2_pcse"
  },
  "language_info": {
   "codemirror_mode": {
    "name": "ipython",
    "version": 3
   },
   "file_extension": ".py",
   "mimetype": "text/x-python",
   "name": "python",
   "nbconvert_exporter": "python",
   "pygments_lexer": "ipython3",
   "version": "3.6.10"
  }
 },
 "nbformat": 4,
 "nbformat_minor": 4
}
