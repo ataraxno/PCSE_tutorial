{
 "cells": [
  {
   "cell_type": "code",
   "execution_count": 1,
   "metadata": {},
   "outputs": [
    {
     "name": "stderr",
     "output_type": "stream",
     "text": [
      "In /home/ubuntu/anaconda3/envs/tf2_pcse/lib/python3.6/site-packages/matplotlib/mpl-data/stylelib/_classic_test.mplstyle: \n",
      "The text.latex.preview rcparam was deprecated in Matplotlib 3.3 and will be removed two minor releases later.\n",
      "In /home/ubuntu/anaconda3/envs/tf2_pcse/lib/python3.6/site-packages/matplotlib/mpl-data/stylelib/_classic_test.mplstyle: \n",
      "The mathtext.fallback_to_cm rcparam was deprecated in Matplotlib 3.3 and will be removed two minor releases later.\n",
      "In /home/ubuntu/anaconda3/envs/tf2_pcse/lib/python3.6/site-packages/matplotlib/mpl-data/stylelib/_classic_test.mplstyle: Support for setting the 'mathtext.fallback_to_cm' rcParam is deprecated since 3.3 and will be removed two minor releases later; use 'mathtext.fallback : 'cm' instead.\n",
      "In /home/ubuntu/anaconda3/envs/tf2_pcse/lib/python3.6/site-packages/matplotlib/mpl-data/stylelib/_classic_test.mplstyle: \n",
      "The validate_bool_maybe_none function was deprecated in Matplotlib 3.3 and will be removed two minor releases later.\n",
      "In /home/ubuntu/anaconda3/envs/tf2_pcse/lib/python3.6/site-packages/matplotlib/mpl-data/stylelib/_classic_test.mplstyle: \n",
      "The savefig.jpeg_quality rcparam was deprecated in Matplotlib 3.3 and will be removed two minor releases later.\n",
      "In /home/ubuntu/anaconda3/envs/tf2_pcse/lib/python3.6/site-packages/matplotlib/mpl-data/stylelib/_classic_test.mplstyle: \n",
      "The keymap.all_axes rcparam was deprecated in Matplotlib 3.3 and will be removed two minor releases later.\n",
      "In /home/ubuntu/anaconda3/envs/tf2_pcse/lib/python3.6/site-packages/matplotlib/mpl-data/stylelib/_classic_test.mplstyle: \n",
      "The animation.avconv_path rcparam was deprecated in Matplotlib 3.3 and will be removed two minor releases later.\n",
      "In /home/ubuntu/anaconda3/envs/tf2_pcse/lib/python3.6/site-packages/matplotlib/mpl-data/stylelib/_classic_test.mplstyle: \n",
      "The animation.avconv_args rcparam was deprecated in Matplotlib 3.3 and will be removed two minor releases later.\n"
     ]
    }
   ],
   "source": [
    "import pandas as pd\n",
    "import numpy as np\n",
    "import os\n",
    "\n",
    "import matplotlib.pyplot as plt"
   ]
  },
  {
   "cell_type": "code",
   "execution_count": 2,
   "metadata": {},
   "outputs": [],
   "source": [
    "from pcse.models import Wofost71_PP\n",
    "\n",
    "from pcse.fileinput import CABOFileReader\n",
    "from pcse.util import WOFOST71SiteDataProvider\n",
    "\n",
    "from pcse.base import ParameterProvider, VariableKiosk\n",
    "from pcse.db import NASAPowerWeatherDataProvider\n",
    "from pcse.fileinput import YAMLAgroManagementReader"
   ]
  },
  {
   "cell_type": "code",
   "execution_count": 3,
   "metadata": {},
   "outputs": [],
   "source": [
    "from pcse.fileinput import YAMLCropDataProvider\n",
    "from pcse.agromanager import AgroManager"
   ]
  },
  {
   "cell_type": "code",
   "execution_count": 4,
   "metadata": {},
   "outputs": [],
   "source": [
    "data_dir = './custom_examples/'\n",
    "crop_id = ('wheat', 'Winter_wheat_107')"
   ]
  },
  {
   "cell_type": "markdown",
   "metadata": {},
   "source": [
    "### Crop parameter"
   ]
  },
  {
   "cell_type": "code",
   "execution_count": 5,
   "metadata": {
    "scrolled": true,
    "tags": []
   },
   "outputs": [
    {
     "name": "stdout",
     "output_type": "stream",
     "text": [
      "crop 'barley', available varieties:\n",
      " - 'Spring_barley_301'\n",
      "crop 'cassava', available varieties:\n",
      " - 'Cassava_VanHeemst_1988'\n",
      "crop 'chickpea', available varieties:\n",
      " - 'Chickpea_VanHeemst_1988'\n",
      "crop 'cotton', available varieties:\n",
      " - 'Cotton_VanHeemst_1988'\n",
      "crop 'cowpea', available varieties:\n",
      " - 'Cowpea_VanHeemst_1988'\n",
      "crop 'fababean', available varieties:\n",
      " - 'Faba_bean_801'\n",
      "crop 'groundnut', available varieties:\n",
      " - 'Groundnut_VanHeemst_1988'\n",
      "crop 'maize', available varieties:\n",
      " - 'Maize_VanHeemst_1988'\n",
      " - 'Grain_maize_201'\n",
      " - 'Grain_maize_202'\n",
      " - 'Grain_maize_203'\n",
      " - 'Grain_maize_204'\n",
      " - 'Grain_maize_205'\n",
      "crop 'millet', available varieties:\n",
      " - 'Millet_VanHeemst_1988'\n",
      "crop 'mungbean', available varieties:\n",
      " - 'Mungbean_VanHeemst_1988'\n",
      "crop 'pigeonpea', available varieties:\n",
      " - 'Pigeonpea_VanHeemst_1988'\n",
      "crop 'potato', available varieties:\n",
      " - 'Potato_701'\n",
      " - 'Potato_702'\n",
      " - 'Potato_703'\n",
      " - 'Potato_704'\n",
      "crop 'rapeseed', available varieties:\n",
      " - 'Oilseed_rape_1001'\n",
      " - 'Oilseed_rape_1002'\n",
      " - 'Oilseed_rape_1003'\n",
      " - 'Oilseed_rape_1004'\n",
      "crop 'rice', available varieties:\n",
      " - 'Rice_501'\n",
      " - 'Rice_HYV_IR8'\n",
      " - 'Rice_IR64616H_DS'\n",
      " - 'Rice_IR64616H_WS'\n",
      " - 'Rice_IR64'\n",
      " - 'Rice_IR72'\n",
      " - 'Rice_IR72_DS'\n",
      " - 'Rice_IR72_WS'\n",
      " - 'Rice_IR8A'\n",
      "crop 'sorghum', available varieties:\n",
      " - 'Sorghum_VanHeemst_1988'\n",
      "crop 'soybean', available varieties:\n",
      " - 'Soybean_901'\n",
      " - 'Soybean_902'\n",
      " - 'Soybean_903'\n",
      " - 'Soybean_904'\n",
      " - 'Soybean_905'\n",
      " - 'Soybean_906'\n",
      " - 'Soybean_VanHeemst_1988'\n",
      "crop 'sugarbeet', available varieties:\n",
      " - 'Sugarbeet_601'\n",
      " - 'Sugarbeet_602'\n",
      " - 'Sugarbeet_603'\n",
      " - 'Sugarbeet_604'\n",
      "crop 'sugarcane', available varieties:\n",
      " - 'Sugarcane_VanHeemst_1988'\n",
      "crop 'sunflower', available varieties:\n",
      " - 'Sunflower_1101'\n",
      "crop 'sweetpotato', available varieties:\n",
      " - 'Sweetpotato_VanHeemst_1988'\n",
      "crop 'tobacco', available varieties:\n",
      " - 'Tobacco_VanHeemst_1988'\n",
      "crop 'wheat', available varieties:\n",
      " - 'Winter_wheat_101'\n",
      " - 'Winter_wheat_102'\n",
      " - 'Winter_wheat_103'\n",
      " - 'Winter_wheat_104'\n",
      " - 'Winter_wheat_105'\n",
      " - 'Winter_wheat_106'\n",
      " - 'Winter_wheat_107'\n",
      "\n"
     ]
    }
   ],
   "source": [
    "cropdata = YAMLCropDataProvider()\n",
    "cropdata.print_crops_varieties()"
   ]
  },
  {
   "cell_type": "code",
   "execution_count": 6,
   "metadata": {},
   "outputs": [],
   "source": [
    "cropdata.set_active_crop(crop_id[0], crop_id[1])"
   ]
  },
  {
   "cell_type": "code",
   "execution_count": 7,
   "metadata": {},
   "outputs": [],
   "source": [
    "_ = os.path.join(data_dir, 'ec3.soil')\n",
    "soildata = CABOFileReader(_)\n",
    "sitedata = WOFOST71SiteDataProvider(WAV=50, CO2=600)\n",
    "parameters = ParameterProvider(cropdata=cropdata, soildata=soildata, sitedata=sitedata)\n",
    "\n",
    "wdp = NASAPowerWeatherDataProvider(latitude=37, longitude=126)\n",
    "\n",
    "_ = os.path.join(data_dir, 'wheat_calendar.agro')\n",
    "agromanagement = YAMLAgroManagementReader(_)"
   ]
  },
  {
   "cell_type": "code",
   "execution_count": 8,
   "metadata": {},
   "outputs": [],
   "source": [
    "wofsim = Wofost71_PP(parameters, wdp, agromanagement)"
   ]
  },
  {
   "cell_type": "code",
   "execution_count": 9,
   "metadata": {},
   "outputs": [],
   "source": [
    "wofsim.run_till_terminate()"
   ]
  },
  {
   "cell_type": "code",
   "execution_count": 10,
   "metadata": {},
   "outputs": [],
   "source": [
    "output = wofsim.get_output()"
   ]
  },
  {
   "cell_type": "code",
   "execution_count": 11,
   "metadata": {},
   "outputs": [],
   "source": [
    "output_df = pd.DataFrame(output)"
   ]
  },
  {
   "cell_type": "code",
   "execution_count": 12,
   "metadata": {},
   "outputs": [],
   "source": [
    "output_df.to_csv('./results/PCSE_wheat_out.csv')"
   ]
  },
  {
   "cell_type": "code",
   "execution_count": 13,
   "metadata": {},
   "outputs": [],
   "source": [
    "varnames = [\"day\", \"DVS\", \"TAGP\", \"LAI\", \"TWSO\"]\n",
    "tmp = {}\n",
    "for var in varnames:\n",
    "    tmp[var] = [t[var] for t in output]"
   ]
  },
  {
   "cell_type": "code",
   "execution_count": 14,
   "metadata": {},
   "outputs": [
    {
     "data": {
      "image/png": "[encoded data removed]",
      "text/plain": [
       "<Figure size 720x576 with 4 Axes>"
      ]
     },
     "metadata": {},
     "output_type": "display_data"
    }
   ],
   "source": [
    "title_ = [\"Development stage\", \"Total fresh weight\", \"LAI\", \"Yields\"]\n",
    "day = tmp.pop(\"day\")\n",
    "fig, axes = plt.subplots(nrows=2, ncols=2, figsize=(10,8))\n",
    "for var, ax, title in zip([\"DVS\", \"TAGP\", \"LAI\", \"TWSO\"], axes.flatten(), title_):\n",
    "    ax.plot_date(day, tmp[var], 'b-')\n",
    "    ax.set_title(title)\n",
    "fig.autofmt_xdate()\n",
    "# fig.savefig('./results/sugarbeet.png')"
   ]
  },
  {
   "cell_type": "markdown",
   "metadata": {},
   "source": [
    "2016-2018 기준 한국 밀 생산량 약 4000 kg/ha..."
   ]
  }
 ],
 "metadata": {
  "kernelspec": {
   "display_name": "Environment (conda_tf2_pcse)",
   "language": "python",
   "name": "conda_tf2_pcse"
  },
  "language_info": {
   "codemirror_mode": {
    "name": "ipython",
    "version": 3
   },
   "file_extension": ".py",
   "mimetype": "text/x-python",
   "name": "python",
   "nbconvert_exporter": "python",
   "pygments_lexer": "ipython3",
   "version": "3.6.10"
  }
 },
 "nbformat": 4,
 "nbformat_minor": 4
}
