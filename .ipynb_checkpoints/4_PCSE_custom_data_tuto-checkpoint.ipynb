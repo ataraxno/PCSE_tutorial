{
 "cells": [
  {
   "cell_type": "code",
   "execution_count": 1,
   "metadata": {},
   "outputs": [
    {
     "name": "stderr",
     "output_type": "stream",
     "text": [
      "In /home/ubuntu/anaconda3/envs/tf2_pcse/lib/python3.6/site-packages/matplotlib/mpl-data/stylelib/_classic_test.mplstyle: \n",
      "The text.latex.preview rcparam was deprecated in Matplotlib 3.3 and will be removed two minor releases later.\n",
      "In /home/ubuntu/anaconda3/envs/tf2_pcse/lib/python3.6/site-packages/matplotlib/mpl-data/stylelib/_classic_test.mplstyle: \n",
      "The mathtext.fallback_to_cm rcparam was deprecated in Matplotlib 3.3 and will be removed two minor releases later.\n",
      "In /home/ubuntu/anaconda3/envs/tf2_pcse/lib/python3.6/site-packages/matplotlib/mpl-data/stylelib/_classic_test.mplstyle: Support for setting the 'mathtext.fallback_to_cm' rcParam is deprecated since 3.3 and will be removed two minor releases later; use 'mathtext.fallback : 'cm' instead.\n",
      "In /home/ubuntu/anaconda3/envs/tf2_pcse/lib/python3.6/site-packages/matplotlib/mpl-data/stylelib/_classic_test.mplstyle: \n",
      "The validate_bool_maybe_none function was deprecated in Matplotlib 3.3 and will be removed two minor releases later.\n",
      "In /home/ubuntu/anaconda3/envs/tf2_pcse/lib/python3.6/site-packages/matplotlib/mpl-data/stylelib/_classic_test.mplstyle: \n",
      "The savefig.jpeg_quality rcparam was deprecated in Matplotlib 3.3 and will be removed two minor releases later.\n",
      "In /home/ubuntu/anaconda3/envs/tf2_pcse/lib/python3.6/site-packages/matplotlib/mpl-data/stylelib/_classic_test.mplstyle: \n",
      "The keymap.all_axes rcparam was deprecated in Matplotlib 3.3 and will be removed two minor releases later.\n",
      "In /home/ubuntu/anaconda3/envs/tf2_pcse/lib/python3.6/site-packages/matplotlib/mpl-data/stylelib/_classic_test.mplstyle: \n",
      "The animation.avconv_path rcparam was deprecated in Matplotlib 3.3 and will be removed two minor releases later.\n",
      "In /home/ubuntu/anaconda3/envs/tf2_pcse/lib/python3.6/site-packages/matplotlib/mpl-data/stylelib/_classic_test.mplstyle: \n",
      "The animation.avconv_args rcparam was deprecated in Matplotlib 3.3 and will be removed two minor releases later.\n"
     ]
    }
   ],
   "source": [
    "import pandas as pd\n",
    "import numpy as np\n",
    "import os\n",
    "\n",
    "import matplotlib.pyplot as plt"
   ]
  },
  {
   "cell_type": "markdown",
   "metadata": {},
   "source": [
    "### Running PCSE/WOFOST with custom input data"
   ]
  },
  {
   "cell_type": "code",
   "execution_count": 2,
   "metadata": {},
   "outputs": [],
   "source": [
    "data_dir = './pcse_examples/'"
   ]
  },
  {
   "cell_type": "code",
   "execution_count": 3,
   "metadata": {
    "scrolled": true,
    "tags": []
   },
   "outputs": [
    {
     "name": "stdout",
     "output_type": "stream",
     "text": [
      "** $Id: sug0601.cab 1.3 1997/09/25 14:07:02 LEM release $\n",
      "** File SUG0601.CAB\n",
      "** CROP DATA FILE for use with WOFOST Version 5.4, June 1992\n",
      "**\n",
      "** SUGAR BEET 601\n",
      "** Regions : Germany, Northern and Central France, Netherlands, Belgium,\n",
      "**           Luxembourg, UK, Ireland, Denmark\n",
      "** Sowing date : between 1 and 10 April\n",
      "** mean date of harvest : between 17 and 27 October\n",
      "** Derived from SUCROS87 data set for sugar beet.\n",
      "** Calibrated for use in WOFOST model at the Centre for Agrobiological\n",
      "** Research (CABO-DLO) for the simulation of crop growth and yield on the\n",
      "** basis of daily weather data.\n",
      "** Purpose of application: Crop growth monitoring with agrometeorological\n",
      "** model in the EC.\n",
      "** Developed in the framework of JRC Agriculture Project Action 3.\n",
      "------------------------------------\n",
      "TBASEM: 3.0 <class 'float'>\n",
      "TEFFMX: 20.0 <class 'float'>\n",
      "TSUMEM: 90.0 <class 'float'>\n",
      "IDSL: 0 <class 'int'>\n",
      "DLO: -99.0 <class 'float'>\n",
      "DLC: -99.0 <class 'float'>\n",
      "TSUM1: 650.0 <class 'float'>\n",
      "TSUM2: 1400.0 <class 'float'>\n",
      "DVSI: 0.0 <class 'float'>\n",
      "DVSEND: 3.0 <class 'float'>\n",
      "TDWI: 0.51 <class 'float'>\n",
      "LAIEM: 0.0007 <class 'float'>\n",
      "RGRLAI: 0.016 <class 'float'>\n",
      "SPA: 0.0 <class 'float'>\n",
      "SPAN: 35.0 <class 'float'>\n",
      "TBASE: 3.0 <class 'float'>\n",
      "CVL: 0.72 <class 'float'>\n",
      "CVO: 0.82 <class 'float'>\n",
      "CVR: 0.72 <class 'float'>\n",
      "CVS: 0.69 <class 'float'>\n",
      "Q10: 2.0 <class 'float'>\n",
      "RML: 0.03 <class 'float'>\n",
      "RMO: 0.003 <class 'float'>\n",
      "RMR: 0.015 <class 'float'>\n",
      "RMS: 0.015 <class 'float'>\n",
      "PERDL: 0.03 <class 'float'>\n",
      "CFET: 1.0 <class 'float'>\n",
      "DEPNR: 2.0 <class 'float'>\n",
      "IAIRDU: 0 <class 'int'>\n",
      "IOX: 0 <class 'int'>\n",
      "RDI: 10.0 <class 'float'>\n",
      "RRI: 1.2 <class 'float'>\n",
      "RDMCR: 120.0 <class 'float'>\n",
      "NMINSO: 0.006 <class 'float'>\n",
      "NMINVE: 0.018 <class 'float'>\n",
      "NMAXSO: 0.013 <class 'float'>\n",
      "NMAXVE: 0.028 <class 'float'>\n",
      "PMINSO: 0.0008 <class 'float'>\n",
      "PMINVE: 0.0015 <class 'float'>\n",
      "PMAXSO: 0.0018 <class 'float'>\n",
      "PMAXVE: 0.0032 <class 'float'>\n",
      "KMINSO: 0.006 <class 'float'>\n",
      "KMINVE: 0.018 <class 'float'>\n",
      "KMAXSO: 0.013 <class 'float'>\n",
      "KMAXVE: 0.036 <class 'float'>\n",
      "YZERO: 0.0 <class 'float'>\n",
      "NFIX: 0.0 <class 'float'>\n",
      "CRPNAM: Sugar beet 601, N-EC <class 'str'>\n",
      "DTSMTB: [0.0, 0.0, 3.0, 0.0, 21.0, 18.0, 35.0, 18.0] <class 'list'>\n",
      "SLATB: [0.0, 0.002, 2.0, 0.002] <class 'list'>\n",
      "SSATB: [0.0, 0.0, 2.0, 0.0] <class 'list'>\n",
      "KDIFTB: [0.0, 0.69, 2.0, 0.69] <class 'list'>\n",
      "EFFTB: [0.0, 0.45, 40.0, 0.45] <class 'list'>\n",
      "AMAXTB: [0.0, 22.5, 1.0, 45.0, 1.13, 45.0, 1.8, 36.0, 2.0, 36.0] <class 'list'>\n",
      "TMPFTB: [0.0, 0.01, 3.0, 0.01, 10.0, 0.8, 15.0, 1.0, 20.0, 1.0, 30.0, 0.95, 35.0, 0.83, 40.0, 0.6] <class 'list'>\n",
      "TMNFTB: [0.0, 0.0, 3.0, 1.0] <class 'list'>\n",
      "RFSETB: [0.0, 1.0, 2.0, 1.0] <class 'list'>\n",
      "FRTB: [0.0, 0.2, 0.91, 0.29, 1.0, 0.3, 1.15, 0.15, 1.29, 0.09, 1.3, 0.09, 1.57, 0.08, 1.92, 0.01, 2.0, 0.02] <class 'list'>\n",
      "FLTB: [0.0, 0.85, 1.0, 0.5, 1.3, 0.05, 1.57, 0.05, 2.0, 0.05] <class 'list'>\n",
      "FSTB: [0.0, 0.15, 1.0, 0.5, 1.3, 0.1, 1.57, 0.1, 1.92, 0.05, 2.0, 0.05] <class 'list'>\n",
      "FOTB: [0.0, 0.0, 1.0, 0.0, 1.3, 0.85, 1.57, 0.85, 1.92, 0.9, 2.0, 0.9] <class 'list'>\n",
      "RDRRTB: [0.0, 0.0, 1.5, 0.0, 1.5001, 0.02, 2.0, 0.02] <class 'list'>\n",
      "RDRSTB: [0.0, 0.0, 1.5, 0.0, 1.5001, 0.02, 2.0, 0.02] <class 'list'>\n",
      "\n"
     ]
    }
   ],
   "source": [
    "from pcse.fileinput import CABOFileReader\n",
    "cropfile = os.path.join(data_dir, 'sug0601.crop')\n",
    "cropdata = CABOFileReader(cropfile)\n",
    "print(cropdata)"
   ]
  },
  {
   "cell_type": "code",
   "execution_count": 4,
   "metadata": {
    "scrolled": true,
    "tags": []
   },
   "outputs": [
    {
     "name": "stdout",
     "output_type": "stream",
     "text": [
      "** $Id: ec3.new 1.2 1997/09/18 17:33:54 LEM release $\n",
      "**\n",
      "** SOIL DATA FILE for use with WOFOST Version 5.0, June 1990\n",
      "**\n",
      "** EC3-medium fine\n",
      "------------------------------------\n",
      "SMW: 0.104 <class 'float'>\n",
      "SMFCF: 0.3 <class 'float'>\n",
      "SM0: 0.41 <class 'float'>\n",
      "CRAIRC: 0.06 <class 'float'>\n",
      "K0: 25.586 <class 'float'>\n",
      "SOPE: 1.47 <class 'float'>\n",
      "KSUB: 1.47 <class 'float'>\n",
      "RDMSOL: 80 <class 'int'>\n",
      "SPADS: 0.1 <class 'float'>\n",
      "SPODS: 0.03 <class 'float'>\n",
      "SPASS: 0.2 <class 'float'>\n",
      "SPOSS: 0.05 <class 'float'>\n",
      "DEFLIM: -0.3 <class 'float'>\n",
      "SOLNAM: EC3-medium fine <class 'str'>\n",
      "SMTAB: [-1.0, 0.41, 1.0, 0.398, 1.3, 0.389, 1.491, 0.38, 2.0, 0.34, 2.4, 0.287, 2.7, 0.241, 3.4, 0.148, 4.204, 0.104, 6.0, 0.09] <class 'list'>\n",
      "CONTAB: [0.0, 1.408, 1.0, 0.167, 1.3, -0.215, 1.491, -0.638, 1.7, -0.854, 2.0, -1.155, 2.4, -1.796, 2.7, -2.26, 3.0, -2.745, 3.4, -3.357, 3.7, -3.824, 4.0, -4.276, 4.204, -4.678] <class 'list'>\n",
      "\n"
     ]
    }
   ],
   "source": [
    "soilfile = os.path.join(data_dir, 'ec3.soil')\n",
    "soildata = CABOFileReader(soilfile)\n",
    "print(soildata)"
   ]
  },
  {
   "cell_type": "code",
   "execution_count": 5,
   "metadata": {},
   "outputs": [
    {
     "name": "stdout",
     "output_type": "stream",
     "text": [
      "{'IFUNRN': 0, 'NOTINF': 0, 'SSI': 0.0, 'SSMAX': 0.0, 'WAV': 100.0, 'SMLIM': 0.4, 'CO2': 360.0}\n"
     ]
    }
   ],
   "source": [
    "from pcse.util import WOFOST71SiteDataProvider\n",
    "sitedata = WOFOST71SiteDataProvider(WAV=100, CO2=360)\n",
    "print(sitedata)"
   ]
  },
  {
   "cell_type": "code",
   "execution_count": 6,
   "metadata": {},
   "outputs": [],
   "source": [
    "from pcse.base import ParameterProvider\n",
    "parameters = ParameterProvider(cropdata=cropdata, soildata=soildata, sitedata=sitedata)"
   ]
  },
  {
   "cell_type": "markdown",
   "metadata": {},
   "source": [
    "pcse.base_classes가 아니라 pcse.base"
   ]
  },
  {
   "cell_type": "code",
   "execution_count": 7,
   "metadata": {},
   "outputs": [
    {
     "name": "stdout",
     "output_type": "stream",
     "text": [
      "!!python/object/new:pcse.fileinput.yaml_agro_loader.YAMLAgroManagementReader\n",
      "listitems:\n",
      "- 2000-01-01:\n",
      "    CropCalendar:\n",
      "      crop_end_date: 2000-10-20\n",
      "      crop_end_type: harvest\n",
      "      crop_name: sugar-beet\n",
      "      crop_start_date: 2000-04-05\n",
      "      crop_start_type: emergence\n",
      "      max_duration: 300\n",
      "      variety_name: sugar_beet_601\n",
      "    StateEvents: null\n",
      "    TimedEvents: null\n",
      "\n"
     ]
    }
   ],
   "source": [
    "from pcse.fileinput import YAMLAgroManagementReader\n",
    "agromanagement_file = os.path.join(data_dir, 'sugarbeet_calendar.agro')\n",
    "agromanagement = YAMLAgroManagementReader(agromanagement_file)\n",
    "print(agromanagement)"
   ]
  },
  {
   "cell_type": "code",
   "execution_count": 8,
   "metadata": {},
   "outputs": [
    {
     "name": "stdout",
     "output_type": "stream",
     "text": [
      "Weather data provided by: NASAPowerWeatherDataProvider\n",
      "--------Description---------\n",
      "NASA/POWER SRB/FLASHFlux/MERRA2/GEOS 5.12.4 (FP-IT) 0.5 x 0.5 Degree Daily Averaged Data\n",
      "----Site characteristics----\n",
      "Elevation:    4.7\n",
      "Latitude:  52.000\n",
      "Longitude:  5.000\n",
      "Data available for 1983-07-01 - 2021-06-29\n",
      "Number of missing days: 6\n",
      "\n"
     ]
    }
   ],
   "source": [
    "from pcse.db import NASAPowerWeatherDataProvider\n",
    "wdp = NASAPowerWeatherDataProvider(latitude=52, longitude=5)\n",
    "print(wdp)"
   ]
  },
  {
   "cell_type": "markdown",
   "metadata": {},
   "source": [
    "시간이 오래 걸림"
   ]
  },
  {
   "cell_type": "code",
   "execution_count": 9,
   "metadata": {},
   "outputs": [],
   "source": [
    "from pcse.models import Wofost71_WLP_FD\n",
    "wofsim = Wofost71_WLP_FD(parameters, wdp, agromanagement)"
   ]
  },
  {
   "cell_type": "code",
   "execution_count": 10,
   "metadata": {},
   "outputs": [
    {
     "data": {
      "text/plain": [
       "294"
      ]
     },
     "execution_count": 10,
     "metadata": {},
     "output_type": "execute_result"
    }
   ],
   "source": [
    "wofsim.run_till_terminate()\n",
    "output = wofsim.get_output()\n",
    "len(output)"
   ]
  },
  {
   "cell_type": "code",
   "execution_count": 11,
   "metadata": {},
   "outputs": [],
   "source": [
    "varnames = [\"day\", \"DVS\", \"TAGP\", \"LAI\", \"TWSO\"]\n",
    "tmp = {}\n",
    "for var in varnames:\n",
    "    tmp[var] = [t[var] for t in output]"
   ]
  },
  {
   "cell_type": "code",
   "execution_count": 12,
   "metadata": {},
   "outputs": [
    {
     "data": {
      "image/png": "[encoded data removed]",
      "text/plain": [
       "<Figure size 720x576 with 4 Axes>"
      ]
     },
     "metadata": {},
     "output_type": "display_data"
    }
   ],
   "source": [
    "day = tmp.pop(\"day\")\n",
    "fig, axes = plt.subplots(nrows=2, ncols=2, figsize=(10,8))\n",
    "for var, ax in zip([\"DVS\", \"TAGP\", \"LAI\", \"TWSO\"], axes.flatten()):\n",
    "    ax.plot_date(day, tmp[var], 'b-')\n",
    "    ax.set_title(var)\n",
    "fig.autofmt_xdate()\n",
    "fig.savefig('./results/sugarbeet.png')"
   ]
  }
 ],
 "metadata": {
  "kernelspec": {
   "display_name": "Environment (conda_tf2_pcse)",
   "language": "python",
   "name": "conda_tf2_pcse"
  },
  "language_info": {
   "codemirror_mode": {
    "name": "ipython",
    "version": 3
   },
   "file_extension": ".py",
   "mimetype": "text/x-python",
   "name": "python",
   "nbconvert_exporter": "python",
   "pygments_lexer": "ipython3",
   "version": "3.6.10"
  }
 },
 "nbformat": 4,
 "nbformat_minor": 4
}
