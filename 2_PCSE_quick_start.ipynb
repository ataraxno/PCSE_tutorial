{
 "cells": [
  {
   "cell_type": "code",
   "execution_count": 1,
   "metadata": {},
   "outputs": [
    {
     "name": "stderr",
     "output_type": "stream",
     "text": [
      "In /home/ubuntu/anaconda3/envs/tf2_pcse/lib/python3.6/site-packages/matplotlib/mpl-data/stylelib/_classic_test.mplstyle: \n",
      "The text.latex.preview rcparam was deprecated in Matplotlib 3.3 and will be removed two minor releases later.\n",
      "In /home/ubuntu/anaconda3/envs/tf2_pcse/lib/python3.6/site-packages/matplotlib/mpl-data/stylelib/_classic_test.mplstyle: \n",
      "The mathtext.fallback_to_cm rcparam was deprecated in Matplotlib 3.3 and will be removed two minor releases later.\n",
      "In /home/ubuntu/anaconda3/envs/tf2_pcse/lib/python3.6/site-packages/matplotlib/mpl-data/stylelib/_classic_test.mplstyle: Support for setting the 'mathtext.fallback_to_cm' rcParam is deprecated since 3.3 and will be removed two minor releases later; use 'mathtext.fallback : 'cm' instead.\n",
      "In /home/ubuntu/anaconda3/envs/tf2_pcse/lib/python3.6/site-packages/matplotlib/mpl-data/stylelib/_classic_test.mplstyle: \n",
      "The validate_bool_maybe_none function was deprecated in Matplotlib 3.3 and will be removed two minor releases later.\n",
      "In /home/ubuntu/anaconda3/envs/tf2_pcse/lib/python3.6/site-packages/matplotlib/mpl-data/stylelib/_classic_test.mplstyle: \n",
      "The savefig.jpeg_quality rcparam was deprecated in Matplotlib 3.3 and will be removed two minor releases later.\n",
      "In /home/ubuntu/anaconda3/envs/tf2_pcse/lib/python3.6/site-packages/matplotlib/mpl-data/stylelib/_classic_test.mplstyle: \n",
      "The keymap.all_axes rcparam was deprecated in Matplotlib 3.3 and will be removed two minor releases later.\n",
      "In /home/ubuntu/anaconda3/envs/tf2_pcse/lib/python3.6/site-packages/matplotlib/mpl-data/stylelib/_classic_test.mplstyle: \n",
      "The animation.avconv_path rcparam was deprecated in Matplotlib 3.3 and will be removed two minor releases later.\n",
      "In /home/ubuntu/anaconda3/envs/tf2_pcse/lib/python3.6/site-packages/matplotlib/mpl-data/stylelib/_classic_test.mplstyle: \n",
      "The animation.avconv_args rcparam was deprecated in Matplotlib 3.3 and will be removed two minor releases later.\n"
     ]
    }
   ],
   "source": [
    "import pandas as pd\n",
    "import numpy as np\n",
    "import os\n",
    "\n",
    "import matplotlib.pyplot as plt"
   ]
  },
  {
   "cell_type": "code",
   "execution_count": 2,
   "metadata": {},
   "outputs": [],
   "source": [
    "import pcse"
   ]
  },
  {
   "cell_type": "markdown",
   "metadata": {},
   "source": [
    "### Test PCSE"
   ]
  },
  {
   "cell_type": "code",
   "execution_count": 3,
   "metadata": {},
   "outputs": [
    {
     "name": "stderr",
     "output_type": "stream",
     "text": [
      "runTest (pcse.tests.test_abioticdamage.Test_FROSTOL) ... ok\n",
      "runTest (pcse.tests.test_partitioning.Test_DVS_Partitioning) ... ok\n",
      "runTest (pcse.tests.test_evapotranspiration.Test_PotentialEvapotranspiration) ... ok\n",
      "runTest (pcse.tests.test_evapotranspiration.Test_WaterLimitedEvapotranspiration1) ... ok\n",
      "runTest (pcse.tests.test_evapotranspiration.Test_WaterLimitedEvapotranspiration2) ... ok\n",
      "runTest (pcse.tests.test_respiration.Test_WOFOSTMaintenanceRespiration) ... ok\n",
      "runTest (pcse.tests.test_penmanmonteith.Test_PenmanMonteith1) ... ok\n",
      "runTest (pcse.tests.test_penmanmonteith.Test_PenmanMonteith2) ... ok\n",
      "runTest (pcse.tests.test_penmanmonteith.Test_PenmanMonteith3) ... ok\n",
      "runTest (pcse.tests.test_penmanmonteith.Test_PenmanMonteith4) ... ok\n",
      "runTest (pcse.tests.test_agromanager.TestAgroManager1) ... ok\n",
      "runTest (pcse.tests.test_agromanager.TestAgroManager2) ... ok\n",
      "runTest (pcse.tests.test_agromanager.TestAgroManager3) ... ok\n",
      "runTest (pcse.tests.test_agromanager.TestAgroManager4) ... ok\n",
      "runTest (pcse.tests.test_agromanager.TestAgroManager5) ... ok\n",
      "runTest (pcse.tests.test_agromanager.TestAgroManager6) ... ok\n",
      "runTest (pcse.tests.test_agromanager.TestAgroManager7) ... ok\n",
      "runTest (pcse.tests.test_agromanager.TestAgroManager8) ... ok\n",
      "runTest (pcse.tests.test_wofost.TestPotentialWinterWheat) ... /home/ubuntu/anaconda3/envs/tf2_pcse/lib/python3.6/site-packages/sqlalchemy/sql/sqltypes.py:603: SAWarning: Dialect sqlite+pysqlite does *not* support Decimal objects natively, and SQLAlchemy must convert from floating point - rounding errors and other issues may occur. Please consider storing Decimal numbers as strings or integers on this platform for lossless storage.\n",
      "  'storage.' % (dialect.name, dialect.driver))\n",
      "ok\n",
      "runTest (pcse.tests.test_wofost.TestPotentialSpringBarley) ... ok\n",
      "runTest (pcse.tests.test_wofost.TestPotentialPotato) ... ok\n",
      "runTest (pcse.tests.test_wofost.TestWaterlimitedSpringBarley) ... ok\n",
      "runTest (pcse.tests.test_wofost.TestWaterlimitedSunflower) ... ok\n",
      "runTest (pcse.tests.test_wofost.TestWaterlimitedPotato) ... ok\n",
      "runTest (pcse.tests.test_wofost.TestWaterlimitedGrainMaize) ... ok\n",
      "runTest (pcse.tests.test_wofost.TestPotentialGrainMaize) ... ok\n",
      "runTest (pcse.tests.test_wofost.TestPotentialSunflower) ... ok\n",
      "runTest (pcse.tests.test_wofost.TestWaterlimitedWinterWheat) ... ok\n",
      "runTest (pcse.tests.test_wofost.TestPotentialWinterRapeseed) ... ok\n",
      "runTest (pcse.tests.test_wofost.TestWaterlimitedWinterRapeseed) ... ok\n",
      "runTest (pcse.tests.test_lintul3.TestLINTUL3_SpringWheat) ... ok\n",
      "runTest (pcse.tests.test_wofost_npk.TestWOFOSTNPK_WinterWheat) ... ok\n",
      "\n",
      "----------------------------------------------------------------------\n",
      "Ran 32 tests in 29.680s\n",
      "\n",
      "OK\n"
     ]
    }
   ],
   "source": [
    "pcse.test()"
   ]
  },
  {
   "cell_type": "markdown",
   "metadata": {},
   "source": [
    "### Quick start"
   ]
  },
  {
   "cell_type": "code",
   "execution_count": 4,
   "metadata": {},
   "outputs": [
    {
     "name": "stderr",
     "output_type": "stream",
     "text": [
      "/home/ubuntu/anaconda3/envs/tf2_pcse/lib/python3.6/site-packages/sqlalchemy/sql/sqltypes.py:603: SAWarning: Dialect sqlite+pysqlite does *not* support Decimal objects natively, and SQLAlchemy must convert from floating point - rounding errors and other issues may occur. Please consider storing Decimal numbers as strings or integers on this platform for lossless storage.\n",
      "  'storage.' % (dialect.name, dialect.driver))\n"
     ]
    }
   ],
   "source": [
    "wofost_object = pcse.start_wofost(grid=31031, crop=1, year=2000, mode='wlp')"
   ]
  },
  {
   "cell_type": "code",
   "execution_count": 5,
   "metadata": {},
   "outputs": [
    {
     "data": {
      "text/plain": [
       "pcse.models.Wofost71_WLP_FD"
      ]
     },
     "execution_count": 5,
     "metadata": {},
     "output_type": "execute_result"
    }
   ],
   "source": [
    "type(wofost_object)"
   ]
  },
  {
   "cell_type": "code",
   "execution_count": 6,
   "metadata": {},
   "outputs": [],
   "source": [
    "wofost_object.run() # one day"
   ]
  },
  {
   "cell_type": "code",
   "execution_count": 7,
   "metadata": {},
   "outputs": [],
   "source": [
    "wofost_object.run(days=10)"
   ]
  },
  {
   "cell_type": "code",
   "execution_count": 8,
   "metadata": {},
   "outputs": [
    {
     "data": {
      "text/plain": [
       "0.2870809817505803"
      ]
     },
     "execution_count": 8,
     "metadata": {},
     "output_type": "execute_result"
    }
   ],
   "source": [
    "wofost_object.get_variable('LAI')"
   ]
  },
  {
   "cell_type": "code",
   "execution_count": 9,
   "metadata": {},
   "outputs": [
    {
     "data": {
      "text/plain": [
       "1.5281221557442748"
      ]
     },
     "execution_count": 9,
     "metadata": {},
     "output_type": "execute_result"
    }
   ],
   "source": [
    "wofost_object.run(days=25)\n",
    "wofost_object.get_variable('LAI')"
   ]
  },
  {
   "cell_type": "code",
   "execution_count": 10,
   "metadata": {},
   "outputs": [],
   "source": [
    "wofost_object.run_till_terminate()"
   ]
  },
  {
   "cell_type": "code",
   "execution_count": 11,
   "metadata": {},
   "outputs": [],
   "source": [
    "output = wofost_object.get_output()"
   ]
  },
  {
   "cell_type": "code",
   "execution_count": 12,
   "metadata": {},
   "outputs": [
    {
     "data": {
      "text/plain": [
       "{'day': datetime.date(2000, 1, 1),\n",
       " 'DVS': 0.0,\n",
       " 'LAI': 0.14468999999999999,\n",
       " 'TAGP': 105.0,\n",
       " 'TWSO': 0.0,\n",
       " 'TWLV': 68.25,\n",
       " 'TWST': 36.75,\n",
       " 'TWRT': 105.0,\n",
       " 'TRA': 0.005768242284916577,\n",
       " 'RD': 10.0,\n",
       " 'SM': 0.25,\n",
       " 'WWLOW': 19.09}"
      ]
     },
     "execution_count": 12,
     "metadata": {},
     "output_type": "execute_result"
    }
   ],
   "source": [
    "output[0]"
   ]
  },
  {
   "cell_type": "code",
   "execution_count": 13,
   "metadata": {},
   "outputs": [
    {
     "data": {
      "text/html": [
       "<div>\n",
       "<style scoped>\n",
       "    .dataframe tbody tr th:only-of-type {\n",
       "        vertical-align: middle;\n",
       "    }\n",
       "\n",
       "    .dataframe tbody tr th {\n",
       "        vertical-align: top;\n",
       "    }\n",
       "\n",
       "    .dataframe thead th {\n",
       "        text-align: right;\n",
       "    }\n",
       "</style>\n",
       "<table border=\"1\" class=\"dataframe\">\n",
       "  <thead>\n",
       "    <tr style=\"text-align: right;\">\n",
       "      <th></th>\n",
       "      <th>DVS</th>\n",
       "      <th>LAI</th>\n",
       "      <th>TAGP</th>\n",
       "      <th>TWSO</th>\n",
       "      <th>TWLV</th>\n",
       "      <th>TWST</th>\n",
       "      <th>TWRT</th>\n",
       "      <th>TRA</th>\n",
       "      <th>RD</th>\n",
       "      <th>SM</th>\n",
       "      <th>WWLOW</th>\n",
       "    </tr>\n",
       "    <tr>\n",
       "      <th>day</th>\n",
       "      <th></th>\n",
       "      <th></th>\n",
       "      <th></th>\n",
       "      <th></th>\n",
       "      <th></th>\n",
       "      <th></th>\n",
       "      <th></th>\n",
       "      <th></th>\n",
       "      <th></th>\n",
       "      <th></th>\n",
       "      <th></th>\n",
       "    </tr>\n",
       "  </thead>\n",
       "  <tbody>\n",
       "    <tr>\n",
       "      <th>2000-01-01</th>\n",
       "      <td>0.000000</td>\n",
       "      <td>0.144690</td>\n",
       "      <td>105.000000</td>\n",
       "      <td>0.0</td>\n",
       "      <td>68.250000</td>\n",
       "      <td>36.750000</td>\n",
       "      <td>105.000000</td>\n",
       "      <td>0.005768</td>\n",
       "      <td>10.0</td>\n",
       "      <td>0.250000</td>\n",
       "      <td>19.090000</td>\n",
       "    </tr>\n",
       "    <tr>\n",
       "      <th>2000-01-02</th>\n",
       "      <td>0.008867</td>\n",
       "      <td>0.154184</td>\n",
       "      <td>111.889710</td>\n",
       "      <td>0.0</td>\n",
       "      <td>72.728312</td>\n",
       "      <td>39.161399</td>\n",
       "      <td>111.889710</td>\n",
       "      <td>0.003312</td>\n",
       "      <td>11.2</td>\n",
       "      <td>0.253925</td>\n",
       "      <td>18.337965</td>\n",
       "    </tr>\n",
       "    <tr>\n",
       "      <th>2000-01-03</th>\n",
       "      <td>0.017157</td>\n",
       "      <td>0.164025</td>\n",
       "      <td>119.031178</td>\n",
       "      <td>0.0</td>\n",
       "      <td>77.370266</td>\n",
       "      <td>41.660912</td>\n",
       "      <td>119.031178</td>\n",
       "      <td>0.002589</td>\n",
       "      <td>12.4</td>\n",
       "      <td>0.258804</td>\n",
       "      <td>18.322171</td>\n",
       "    </tr>\n",
       "    <tr>\n",
       "      <th>2000-01-04</th>\n",
       "      <td>0.024293</td>\n",
       "      <td>0.173908</td>\n",
       "      <td>126.203520</td>\n",
       "      <td>0.0</td>\n",
       "      <td>82.032288</td>\n",
       "      <td>44.171232</td>\n",
       "      <td>126.203520</td>\n",
       "      <td>0.006309</td>\n",
       "      <td>13.6</td>\n",
       "      <td>0.263165</td>\n",
       "      <td>18.311042</td>\n",
       "    </tr>\n",
       "    <tr>\n",
       "      <th>2000-01-05</th>\n",
       "      <td>0.032706</td>\n",
       "      <td>0.185033</td>\n",
       "      <td>134.276367</td>\n",
       "      <td>0.0</td>\n",
       "      <td>87.279639</td>\n",
       "      <td>46.996729</td>\n",
       "      <td>134.276367</td>\n",
       "      <td>0.003616</td>\n",
       "      <td>14.8</td>\n",
       "      <td>0.266002</td>\n",
       "      <td>18.287827</td>\n",
       "    </tr>\n",
       "  </tbody>\n",
       "</table>\n",
       "</div>"
      ],
      "text/plain": [
       "                 DVS       LAI        TAGP  TWSO       TWLV       TWST  \\\n",
       "day                                                                      \n",
       "2000-01-01  0.000000  0.144690  105.000000   0.0  68.250000  36.750000   \n",
       "2000-01-02  0.008867  0.154184  111.889710   0.0  72.728312  39.161399   \n",
       "2000-01-03  0.017157  0.164025  119.031178   0.0  77.370266  41.660912   \n",
       "2000-01-04  0.024293  0.173908  126.203520   0.0  82.032288  44.171232   \n",
       "2000-01-05  0.032706  0.185033  134.276367   0.0  87.279639  46.996729   \n",
       "\n",
       "                  TWRT       TRA    RD        SM      WWLOW  \n",
       "day                                                          \n",
       "2000-01-01  105.000000  0.005768  10.0  0.250000  19.090000  \n",
       "2000-01-02  111.889710  0.003312  11.2  0.253925  18.337965  \n",
       "2000-01-03  119.031178  0.002589  12.4  0.258804  18.322171  \n",
       "2000-01-04  126.203520  0.006309  13.6  0.263165  18.311042  \n",
       "2000-01-05  134.276367  0.003616  14.8  0.266002  18.287827  "
      ]
     },
     "execution_count": 13,
     "metadata": {},
     "output_type": "execute_result"
    }
   ],
   "source": [
    "output_df = pd.DataFrame(output).set_index('day')\n",
    "output_df.head()"
   ]
  },
  {
   "cell_type": "code",
   "execution_count": 14,
   "metadata": {},
   "outputs": [],
   "source": [
    "summary_output = wofost_object.get_summary_output()"
   ]
  },
  {
   "cell_type": "code",
   "execution_count": 15,
   "metadata": {},
   "outputs": [
    {
     "data": {
      "text/plain": [
       "[{'DVS': 2.0,\n",
       "  'LAIMAX': 6.132713013415593,\n",
       "  'TAGP': 15261.754008006246,\n",
       "  'TWSO': 7179.804492059393,\n",
       "  'TWLV': 3029.3704738986926,\n",
       "  'TWST': 5052.579042048161,\n",
       "  'TWRT': 1546.9912279812847,\n",
       "  'CTRAT': 22.457533447526988,\n",
       "  'RD': 60.0,\n",
       "  'DOS': None,\n",
       "  'DOE': datetime.date(2000, 1, 1),\n",
       "  'DOA': datetime.date(2000, 3, 28),\n",
       "  'DOM': datetime.date(2000, 5, 31),\n",
       "  'DOH': None,\n",
       "  'DOV': None}]"
      ]
     },
     "execution_count": 15,
     "metadata": {},
     "output_type": "execute_result"
    }
   ],
   "source": [
    "summary_output"
   ]
  }
 ],
 "metadata": {
  "kernelspec": {
   "display_name": "Environment (conda_tf2_pcse)",
   "language": "python",
   "name": "conda_tf2_pcse"
  },
  "language_info": {
   "codemirror_mode": {
    "name": "ipython",
    "version": 3
   },
   "file_extension": ".py",
   "mimetype": "text/x-python",
   "name": "python",
   "nbconvert_exporter": "python",
   "pygments_lexer": "ipython3",
   "version": "3.6.10"
  }
 },
 "nbformat": 4,
 "nbformat_minor": 4
}
